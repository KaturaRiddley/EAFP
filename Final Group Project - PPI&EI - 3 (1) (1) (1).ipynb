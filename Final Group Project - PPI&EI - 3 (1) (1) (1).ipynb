{
 "cells": [
  {
   "cell_type": "markdown",
   "id": "efff6b4b",
   "metadata": {},
   "source": [
    "Import packages:"
   ]
  },
  {
   "cell_type": "code",
   "execution_count": 1,
   "id": "70e8fd95",
   "metadata": {},
   "outputs": [
    {
     "name": "stderr",
     "output_type": "stream",
     "text": [
      "C:\\Users\\user\\anaconda3\\lib\\site-packages\\statsmodels\\tsa\\base\\tsa_model.py:7: FutureWarning: pandas.Int64Index is deprecated and will be removed from pandas in a future version. Use pandas.Index with the appropriate dtype instead.\n",
      "  from pandas import (to_datetime, Int64Index, DatetimeIndex, Period,\n",
      "C:\\Users\\user\\anaconda3\\lib\\site-packages\\statsmodels\\tsa\\base\\tsa_model.py:7: FutureWarning: pandas.Float64Index is deprecated and will be removed from pandas in a future version. Use pandas.Index with the appropriate dtype instead.\n",
      "  from pandas import (to_datetime, Int64Index, DatetimeIndex, Period,\n"
     ]
    }
   ],
   "source": [
    "import pandas as pd\n",
    "import numpy as np\n",
    "import numpy.random as nr\n",
    "from sklearn.preprocessing import LabelEncoder, OneHotEncoder\n",
    "from sklearn.linear_model import LogisticRegression\n",
    "import sklearn.model_selection as ms\n",
    "from sklearn import feature_selection as fs\n",
    "import sklearn.decomposition as skde\n",
    "import sklearn.metrics as sklm\n",
    "from sklearn.linear_model import ElasticNet, Lasso,  Ridge, BayesianRidge, LassoLarsIC\n",
    "from sklearn.ensemble import RandomForestRegressor,  GradientBoostingRegressor\n",
    "from sklearn.ensemble import RandomForestClassifier\n",
    "from sklearn.kernel_ridge import KernelRidge\n",
    "from sklearn.pipeline import make_pipeline\n",
    "from sklearn.preprocessing import RobustScaler\n",
    "from sklearn.base import BaseEstimator, TransformerMixin, RegressorMixin, clone\n",
    "from sklearn.model_selection import KFold, cross_val_score, train_test_split\n",
    "from sklearn.model_selection import RandomizedSearchCV\n",
    "from sklearn.metrics import r2_score\n",
    "from sklearn.cluster import KMeans\n",
    "from sklearn.neighbors import KNeighborsClassifier\n",
    "from sklearn.preprocessing import StandardScaler\n",
    "from sklearn.metrics import classification_report, confusion_matrix, accuracy_score\n",
    "from sklearn.datasets import make_classification\n",
    "pd.options.display.max_columns = 1000\n",
    "from sklearn.tree import DecisionTreeClassifier\n",
    "import seaborn as sns\n",
    "from skimpy import skim\n",
    "import matplotlib.pyplot as plt\n",
    "%matplotlib inline\n",
    "import math\n",
    "import scipy\n",
    "import scipy.stats as ss\n",
    "import scipy.cluster.hierarchy as sch\n",
    "from scipy.stats import norm\n",
    "from scipy import stats\n",
    "from scipy.stats import boxcox\n",
    "import statsmodels.api as sm\n",
    "from statsmodels.stats.multicomp import pairwise_tukeyhsd\n",
    "from statsmodels.stats.multicomp import MultiComparison"
   ]
  },
  {
   "cell_type": "markdown",
   "id": "460ae788",
   "metadata": {},
   "source": [
    "Import datasets:"
   ]
  },
  {
   "cell_type": "code",
   "execution_count": 2,
   "id": "8ba9379d",
   "metadata": {},
   "outputs": [],
   "source": [
    "dataset = pd.read_csv('train_values_wJZrCmI.csv')"
   ]
  },
  {
   "cell_type": "code",
   "execution_count": 3,
   "id": "421f2510",
   "metadata": {},
   "outputs": [],
   "source": [
    "#dataset.head()"
   ]
  },
  {
   "cell_type": "code",
   "execution_count": 4,
   "id": "aa124388",
   "metadata": {},
   "outputs": [],
   "source": [
    "dataset_labels = pd.read_csv('train_labels.csv')"
   ]
  },
  {
   "cell_type": "code",
   "execution_count": 5,
   "id": "59922d37",
   "metadata": {},
   "outputs": [],
   "source": [
    "#dataset_labels.head()"
   ]
  },
  {
   "cell_type": "markdown",
   "id": "8ca6a059",
   "metadata": {},
   "source": [
    "Data Wrangling - Convert Data Types:"
   ]
  },
  {
   "cell_type": "code",
   "execution_count": 6,
   "id": "8fc4a8bc",
   "metadata": {},
   "outputs": [],
   "source": [
    "#dataset.dtypes.unique()"
   ]
  },
  {
   "cell_type": "code",
   "execution_count": 7,
   "id": "a3989887",
   "metadata": {},
   "outputs": [],
   "source": [
    "dataset1 = dataset.select_dtypes(['object', bool])"
   ]
  },
  {
   "cell_type": "code",
   "execution_count": 8,
   "id": "62d8945d",
   "metadata": {},
   "outputs": [],
   "source": [
    "le=LabelEncoder()"
   ]
  },
  {
   "cell_type": "code",
   "execution_count": 9,
   "id": "49307c13",
   "metadata": {},
   "outputs": [],
   "source": [
    "list1=dataset[list(dataset)]\n",
    "list_categorical=[]"
   ]
  },
  {
   "cell_type": "code",
   "execution_count": 10,
   "id": "102d72b1",
   "metadata": {},
   "outputs": [],
   "source": [
    "for i in list1:\n",
    "    list_categorical.append(i)\n",
    "for i in list_categorical:\n",
    "    dataset[i]=le.fit_transform(dataset[i])"
   ]
  },
  {
   "cell_type": "code",
   "execution_count": 11,
   "id": "1af20dac",
   "metadata": {},
   "outputs": [
    {
     "data": {
      "text/plain": [
       "(12600, 59)"
      ]
     },
     "execution_count": 11,
     "metadata": {},
     "output_type": "execute_result"
    }
   ],
   "source": [
    "dataset.shape"
   ]
  },
  {
   "cell_type": "markdown",
   "id": "3223c443",
   "metadata": {},
   "source": [
    "Data Wrangling - Drop duplicates:"
   ]
  },
  {
   "cell_type": "code",
   "execution_count": 12,
   "id": "fb541855",
   "metadata": {},
   "outputs": [],
   "source": [
    "dataset = dataset.drop_duplicates(keep = 'last')\n",
    "dataset = dataset.drop_duplicates(subset = 'row_id', keep = 'last')"
   ]
  },
  {
   "cell_type": "markdown",
   "id": "50049068",
   "metadata": {},
   "source": [
    "Data Wrangling - Drop columns with missing values:"
   ]
  },
  {
   "cell_type": "code",
   "execution_count": 13,
   "id": "423ed0d2",
   "metadata": {},
   "outputs": [],
   "source": [
    "dataset.drop('bank_interest_rate', axis = 1, inplace = True)\n",
    "dataset.drop('mm_interest_rate', axis = 1, inplace = True)\n",
    "dataset.drop('mfi_interest_rate', axis = 1, inplace = True)\n",
    "dataset.drop('other_fsp_interest_rate', axis = 1, inplace = True)"
   ]
  },
  {
   "cell_type": "markdown",
   "id": "a6dc4497",
   "metadata": {},
   "source": [
    "Data Wrangling - Replace missing values:"
   ]
  },
  {
   "cell_type": "code",
   "execution_count": 14,
   "id": "0ed9164b",
   "metadata": {},
   "outputs": [],
   "source": [
    "dataset['education_level'].fillna(dataset['education_level'].median(), inplace=True)\n",
    "dataset['share_hh_income_provided'].fillna(dataset['share_hh_income_provided'].median(), inplace=True)"
   ]
  },
  {
   "cell_type": "code",
   "execution_count": 15,
   "id": "32a169f1",
   "metadata": {},
   "outputs": [],
   "source": [
    "dataset.dropna(subset=['education_level'], inplace=True)\n",
    "dataset.dropna(subset=['share_hh_income_provided'], inplace=True)"
   ]
  },
  {
   "cell_type": "code",
   "execution_count": 16,
   "id": "d8dbe89a",
   "metadata": {},
   "outputs": [],
   "source": [
    "dataset['education_level'].fillna(4, inplace=True)\n",
    "dataset['share_hh_income_provided'].fillna(0, inplace=True)"
   ]
  },
  {
   "cell_type": "markdown",
   "id": "232ce760",
   "metadata": {},
   "source": [
    "Data Wrangling - Create age groups:"
   ]
  },
  {
   "cell_type": "code",
   "execution_count": 17,
   "id": "6e4a5282",
   "metadata": {},
   "outputs": [],
   "source": [
    "#print(dataset.loc[dataset['education_level'] == 'Unknown'])"
   ]
  },
  {
   "cell_type": "code",
   "execution_count": 18,
   "id": "b99886fc",
   "metadata": {},
   "outputs": [
    {
     "data": {
      "text/plain": [
       "(12600, 55)"
      ]
     },
     "execution_count": 18,
     "metadata": {},
     "output_type": "execute_result"
    }
   ],
   "source": [
    "dataset.shape"
   ]
  },
  {
   "cell_type": "code",
   "execution_count": 19,
   "id": "4c740d21",
   "metadata": {},
   "outputs": [],
   "source": [
    "dataset2 = dataset[['country','age', 'female', 'married', 'relationship_to_hh_head', 'education_level', 'literacy', 'employed_last_year','employment_category_last_year',\n",
    "       'employment_type_last_year', 'share_hh_income_provided', 'income_friends_family_last_year',\n",
    "       'income_government_last_year', 'income_own_business_last_year', 'num_times_borrowed_last_year', 'formal_savings',\n",
    "       'informal_savings']]"
   ]
  },
  {
   "cell_type": "code",
   "execution_count": 20,
   "id": "d0c91b2d",
   "metadata": {},
   "outputs": [],
   "source": [
    "#dataset2.head()"
   ]
  },
  {
   "cell_type": "code",
   "execution_count": 21,
   "id": "a2e665db",
   "metadata": {},
   "outputs": [
    {
     "data": {
      "text/html": [
       "<pre style=\"white-space:pre;overflow-x:auto;line-height:normal;font-family:Menlo,'DejaVu Sans Mono',consolas,'Courier New',monospace\">╭───────────────────────────────────── skimpy summary ──────────────────────────────────────╮\n",
       "│ <span style=\"font-style: italic\">         Data Summary         </span> <span style=\"font-style: italic\">      Data Types       </span>                                    │\n",
       "│ ┏━━━━━━━━━━━━━━━━━━━┳━━━━━━━━┓ ┏━━━━━━━━━━━━━┳━━━━━━━┓                                    │\n",
       "│ ┃<span style=\"color: #008080; text-decoration-color: #008080; font-weight: bold\"> dataframe         </span>┃<span style=\"color: #008080; text-decoration-color: #008080; font-weight: bold\"> Values </span>┃ ┃<span style=\"color: #008080; text-decoration-color: #008080; font-weight: bold\"> Column Type </span>┃<span style=\"color: #008080; text-decoration-color: #008080; font-weight: bold\"> Count </span>┃                                    │\n",
       "│ ┡━━━━━━━━━━━━━━━━━━━╇━━━━━━━━┩ ┡━━━━━━━━━━━━━╇━━━━━━━┩                                    │\n",
       "│ │ Number of rows    │ 12600  │ │ int64       │ 13    │                                    │\n",
       "│ │ Number of columns │ 17     │ │ int32       │ 4     │                                    │\n",
       "│ └───────────────────┴────────┘ └─────────────┴───────┘                                    │\n",
       "│ <span style=\"font-style: italic\">                                         number                                         </span>  │\n",
       "│ ┏━━━━━━━━━━━━━┳━━━━━━━━━┳━━━━━━━━━━━━━━┳━━━━━━━┳━━━━━━┳━━━━┳━━━━━┳━━━━━┳━━━━━━┳━━━━━━━━┓  │\n",
       "│ ┃<span style=\"font-weight: bold\">             </span>┃<span style=\"font-weight: bold\"> missing </span>┃<span style=\"font-weight: bold\"> complete     </span>┃<span style=\"font-weight: bold\"> mean  </span>┃<span style=\"font-weight: bold\"> sd   </span>┃<span style=\"font-weight: bold\"> p0 </span>┃<span style=\"font-weight: bold\"> p25 </span>┃<span style=\"font-weight: bold\"> p75 </span>┃<span style=\"font-weight: bold\"> p100 </span>┃<span style=\"font-weight: bold\"> hist   </span>┃  │\n",
       "│ ┃             ┃         ┃<span style=\"font-weight: bold\"> rate         </span>┃       ┃      ┃    ┃     ┃     ┃      ┃        ┃  │\n",
       "│ ┡━━━━━━━━━━━━━╇━━━━━━━━━╇━━━━━━━━━━━━━━╇━━━━━━━╇━━━━━━╇━━━━╇━━━━━╇━━━━━╇━━━━━━╇━━━━━━━━┩  │\n",
       "│ │ <span style=\"color: #af87ff; text-decoration-color: #af87ff\">country    </span> │ <span style=\"color: #008080; text-decoration-color: #008080\">      0</span> │ <span style=\"color: #008080; text-decoration-color: #008080\">           1</span> │ <span style=\"color: #008080; text-decoration-color: #008080\">    3</span> │ <span style=\"color: #008080; text-decoration-color: #008080\">   2</span> │ <span style=\"color: #008080; text-decoration-color: #008080\"> 0</span> │ <span style=\"color: #008080; text-decoration-color: #008080\">  1</span> │ <span style=\"color: #008080; text-decoration-color: #008080\">  5</span> │ <span style=\"color: #008080; text-decoration-color: #008080\">   6</span> │ <span style=\"color: #008000; text-decoration-color: #008000\">▄▄▄▄▄█</span> │  │\n",
       "│ │ <span style=\"color: #af87ff; text-decoration-color: #af87ff\">age        </span> │ <span style=\"color: #008080; text-decoration-color: #008080\">      0</span> │ <span style=\"color: #008080; text-decoration-color: #008080\">           1</span> │ <span style=\"color: #008080; text-decoration-color: #008080\">   21</span> │ <span style=\"color: #008080; text-decoration-color: #008080\">  15</span> │ <span style=\"color: #008080; text-decoration-color: #008080\"> 0</span> │ <span style=\"color: #008080; text-decoration-color: #008080\"> 10</span> │ <span style=\"color: #008080; text-decoration-color: #008080\"> 30</span> │ <span style=\"color: #008080; text-decoration-color: #008080\">  83</span> │ <span style=\"color: #008000; text-decoration-color: #008000\"> █▇▄▂ </span> │  │\n",
       "│ │ <span style=\"color: #af87ff; text-decoration-color: #af87ff\">female     </span> │ <span style=\"color: #008080; text-decoration-color: #008080\">      0</span> │ <span style=\"color: #008080; text-decoration-color: #008080\">           1</span> │ <span style=\"color: #008080; text-decoration-color: #008080\"> 0.56</span> │ <span style=\"color: #008080; text-decoration-color: #008080\"> 0.5</span> │ <span style=\"color: #008080; text-decoration-color: #008080\"> 0</span> │ <span style=\"color: #008080; text-decoration-color: #008080\">  0</span> │ <span style=\"color: #008080; text-decoration-color: #008080\">  1</span> │ <span style=\"color: #008080; text-decoration-color: #008080\">   1</span> │ <span style=\"color: #008000; text-decoration-color: #008000\">▆    █</span> │  │\n",
       "│ │ <span style=\"color: #af87ff; text-decoration-color: #af87ff\">married    </span> │ <span style=\"color: #008080; text-decoration-color: #008080\">      0</span> │ <span style=\"color: #008080; text-decoration-color: #008080\">           1</span> │ <span style=\"color: #008080; text-decoration-color: #008080\"> 0.65</span> │ <span style=\"color: #008080; text-decoration-color: #008080\">0.48</span> │ <span style=\"color: #008080; text-decoration-color: #008080\"> 0</span> │ <span style=\"color: #008080; text-decoration-color: #008080\">  0</span> │ <span style=\"color: #008080; text-decoration-color: #008080\">  1</span> │ <span style=\"color: #008080; text-decoration-color: #008080\">   1</span> │ <span style=\"color: #008000; text-decoration-color: #008000\">▄    █</span> │  │\n",
       "│ │ <span style=\"color: #af87ff; text-decoration-color: #af87ff\">relationshi</span> │ <span style=\"color: #008080; text-decoration-color: #008080\">      0</span> │ <span style=\"color: #008080; text-decoration-color: #008080\">           1</span> │ <span style=\"color: #008080; text-decoration-color: #008080\">  2.9</span> │ <span style=\"color: #008080; text-decoration-color: #008080\"> 1.9</span> │ <span style=\"color: #008080; text-decoration-color: #008080\"> 0</span> │ <span style=\"color: #008080; text-decoration-color: #008080\">  1</span> │ <span style=\"color: #008080; text-decoration-color: #008080\">  5</span> │ <span style=\"color: #008080; text-decoration-color: #008080\">   6</span> │ <span style=\"color: #008000; text-decoration-color: #008000\">▁█  ▃▆</span> │  │\n",
       "│ │ <span style=\"color: #af87ff; text-decoration-color: #af87ff\">p_to_hh_h  </span> │         │              │       │      │    │     │     │      │        │  │\n",
       "│ │ <span style=\"color: #af87ff; text-decoration-color: #af87ff\">education_l</span> │ <span style=\"color: #008080; text-decoration-color: #008080\">      0</span> │ <span style=\"color: #008080; text-decoration-color: #008080\">           1</span> │ <span style=\"color: #008080; text-decoration-color: #008080\">  1.4</span> │ <span style=\"color: #008080; text-decoration-color: #008080\">0.97</span> │ <span style=\"color: #008080; text-decoration-color: #008080\"> 0</span> │ <span style=\"color: #008080; text-decoration-color: #008080\">  1</span> │ <span style=\"color: #008080; text-decoration-color: #008080\">  2</span> │ <span style=\"color: #008080; text-decoration-color: #008080\">   4</span> │ <span style=\"color: #008000; text-decoration-color: #008000\">▄█ ▇▂ </span> │  │\n",
       "│ │ <span style=\"color: #af87ff; text-decoration-color: #af87ff\">evel       </span> │         │              │       │      │    │     │     │      │        │  │\n",
       "│ │ <span style=\"color: #af87ff; text-decoration-color: #af87ff\">literacy   </span> │ <span style=\"color: #008080; text-decoration-color: #008080\">      0</span> │ <span style=\"color: #008080; text-decoration-color: #008080\">           1</span> │ <span style=\"color: #008080; text-decoration-color: #008080\"> 0.61</span> │ <span style=\"color: #008080; text-decoration-color: #008080\">0.49</span> │ <span style=\"color: #008080; text-decoration-color: #008080\"> 0</span> │ <span style=\"color: #008080; text-decoration-color: #008080\">  0</span> │ <span style=\"color: #008080; text-decoration-color: #008080\">  1</span> │ <span style=\"color: #008080; text-decoration-color: #008080\">   1</span> │ <span style=\"color: #008000; text-decoration-color: #008000\">▅    █</span> │  │\n",
       "│ │ <span style=\"color: #af87ff; text-decoration-color: #af87ff\">employed_la</span> │ <span style=\"color: #008080; text-decoration-color: #008080\">      0</span> │ <span style=\"color: #008080; text-decoration-color: #008080\">           1</span> │ <span style=\"color: #008080; text-decoration-color: #008080\"> 0.59</span> │ <span style=\"color: #008080; text-decoration-color: #008080\">0.49</span> │ <span style=\"color: #008080; text-decoration-color: #008080\"> 0</span> │ <span style=\"color: #008080; text-decoration-color: #008080\">  0</span> │ <span style=\"color: #008080; text-decoration-color: #008080\">  1</span> │ <span style=\"color: #008080; text-decoration-color: #008080\">   1</span> │ <span style=\"color: #008000; text-decoration-color: #008000\">▆    █</span> │  │\n",
       "│ │ <span style=\"color: #af87ff; text-decoration-color: #af87ff\">st_year    </span> │         │              │       │      │    │     │     │      │        │  │\n",
       "│ │ <span style=\"color: #af87ff; text-decoration-color: #af87ff\">employment_</span> │ <span style=\"color: #008080; text-decoration-color: #008080\">      0</span> │ <span style=\"color: #008080; text-decoration-color: #008080\">           1</span> │ <span style=\"color: #008080; text-decoration-color: #008080\"> 0.64</span> │ <span style=\"color: #008080; text-decoration-color: #008080\">0.98</span> │ <span style=\"color: #008080; text-decoration-color: #008080\"> 0</span> │ <span style=\"color: #008080; text-decoration-color: #008080\">  0</span> │ <span style=\"color: #008080; text-decoration-color: #008080\">  1</span> │ <span style=\"color: #008080; text-decoration-color: #008080\">   4</span> │ <span style=\"color: #008000; text-decoration-color: #008000\"> █▄ ▁ </span> │  │\n",
       "│ │ <span style=\"color: #af87ff; text-decoration-color: #af87ff\">category_  </span> │         │              │       │      │    │     │     │      │        │  │\n",
       "│ │ <span style=\"color: #af87ff; text-decoration-color: #af87ff\">employment_</span> │ <span style=\"color: #008080; text-decoration-color: #008080\">      0</span> │ <span style=\"color: #008080; text-decoration-color: #008080\">           1</span> │ <span style=\"color: #008080; text-decoration-color: #008080\">  1.9</span> │ <span style=\"color: #008080; text-decoration-color: #008080\"> 1.5</span> │ <span style=\"color: #008080; text-decoration-color: #008080\"> 0</span> │ <span style=\"color: #008080; text-decoration-color: #008080\">  1</span> │ <span style=\"color: #008080; text-decoration-color: #008080\">  3</span> │ <span style=\"color: #008080; text-decoration-color: #008080\">   4</span> │ <span style=\"color: #008000; text-decoration-color: #008000\">▄█ ▁▃▆</span> │  │\n",
       "│ │ <span style=\"color: #af87ff; text-decoration-color: #af87ff\">type_last  </span> │         │              │       │      │    │     │     │      │        │  │\n",
       "│ │ <span style=\"color: #af87ff; text-decoration-color: #af87ff\">share_hh_in</span> │ <span style=\"color: #008080; text-decoration-color: #008080\">      0</span> │ <span style=\"color: #008080; text-decoration-color: #008080\">           1</span> │ <span style=\"color: #008080; text-decoration-color: #008080\">    2</span> │ <span style=\"color: #008080; text-decoration-color: #008080\"> 1.6</span> │ <span style=\"color: #008080; text-decoration-color: #008080\"> 0</span> │ <span style=\"color: #008080; text-decoration-color: #008080\">  1</span> │ <span style=\"color: #008080; text-decoration-color: #008080\">  4</span> │ <span style=\"color: #008080; text-decoration-color: #008080\">   5</span> │ <span style=\"color: #008000; text-decoration-color: #008000\">██▃▃█▁</span> │  │\n",
       "│ │ <span style=\"color: #af87ff; text-decoration-color: #af87ff\">come_prov  </span> │         │              │       │      │    │     │     │      │        │  │\n",
       "│ │ <span style=\"color: #af87ff; text-decoration-color: #af87ff\">income_frie</span> │ <span style=\"color: #008080; text-decoration-color: #008080\">      0</span> │ <span style=\"color: #008080; text-decoration-color: #008080\">           1</span> │ <span style=\"color: #008080; text-decoration-color: #008080\"> 0.41</span> │ <span style=\"color: #008080; text-decoration-color: #008080\">0.49</span> │ <span style=\"color: #008080; text-decoration-color: #008080\"> 0</span> │ <span style=\"color: #008080; text-decoration-color: #008080\">  0</span> │ <span style=\"color: #008080; text-decoration-color: #008080\">  1</span> │ <span style=\"color: #008080; text-decoration-color: #008080\">   1</span> │ <span style=\"color: #008000; text-decoration-color: #008000\">█    ▆</span> │  │\n",
       "│ │ <span style=\"color: #af87ff; text-decoration-color: #af87ff\">nds_famil  </span> │         │              │       │      │    │     │     │      │        │  │\n",
       "│ │ <span style=\"color: #af87ff; text-decoration-color: #af87ff\">income_gove</span> │ <span style=\"color: #008080; text-decoration-color: #008080\">      0</span> │ <span style=\"color: #008080; text-decoration-color: #008080\">           1</span> │ <span style=\"color: #008080; text-decoration-color: #008080\">0.057</span> │ <span style=\"color: #008080; text-decoration-color: #008080\">0.23</span> │ <span style=\"color: #008080; text-decoration-color: #008080\"> 0</span> │ <span style=\"color: #008080; text-decoration-color: #008080\">  0</span> │ <span style=\"color: #008080; text-decoration-color: #008080\">  0</span> │ <span style=\"color: #008080; text-decoration-color: #008080\">   1</span> │ <span style=\"color: #008000; text-decoration-color: #008000\">  █   </span> │  │\n",
       "│ │ <span style=\"color: #af87ff; text-decoration-color: #af87ff\">rnment_la  </span> │         │              │       │      │    │     │     │      │        │  │\n",
       "│ │ <span style=\"color: #af87ff; text-decoration-color: #af87ff\">income_own_</span> │ <span style=\"color: #008080; text-decoration-color: #008080\">      0</span> │ <span style=\"color: #008080; text-decoration-color: #008080\">           1</span> │ <span style=\"color: #008080; text-decoration-color: #008080\">  0.3</span> │ <span style=\"color: #008080; text-decoration-color: #008080\">0.46</span> │ <span style=\"color: #008080; text-decoration-color: #008080\"> 0</span> │ <span style=\"color: #008080; text-decoration-color: #008080\">  0</span> │ <span style=\"color: #008080; text-decoration-color: #008080\">  1</span> │ <span style=\"color: #008080; text-decoration-color: #008080\">   1</span> │ <span style=\"color: #008000; text-decoration-color: #008000\">█    ▃</span> │  │\n",
       "│ │ <span style=\"color: #af87ff; text-decoration-color: #af87ff\">business_  </span> │         │              │       │      │    │     │     │      │        │  │\n",
       "│ │ <span style=\"color: #af87ff; text-decoration-color: #af87ff\">num_times_b</span> │ <span style=\"color: #008080; text-decoration-color: #008080\">      0</span> │ <span style=\"color: #008080; text-decoration-color: #008080\">           1</span> │ <span style=\"color: #008080; text-decoration-color: #008080\"> 0.66</span> │ <span style=\"color: #008080; text-decoration-color: #008080\">0.92</span> │ <span style=\"color: #008080; text-decoration-color: #008080\"> 0</span> │ <span style=\"color: #008080; text-decoration-color: #008080\">  0</span> │ <span style=\"color: #008080; text-decoration-color: #008080\">  1</span> │ <span style=\"color: #008080; text-decoration-color: #008080\">   3</span> │ <span style=\"color: #008000; text-decoration-color: #008000\">█ ▃ ▂▁</span> │  │\n",
       "│ │ <span style=\"color: #af87ff; text-decoration-color: #af87ff\">orrowed_l  </span> │         │              │       │      │    │     │     │      │        │  │\n",
       "│ │ <span style=\"color: #af87ff; text-decoration-color: #af87ff\">formal_savi</span> │ <span style=\"color: #008080; text-decoration-color: #008080\">      0</span> │ <span style=\"color: #008080; text-decoration-color: #008080\">           1</span> │ <span style=\"color: #008080; text-decoration-color: #008080\">  0.3</span> │ <span style=\"color: #008080; text-decoration-color: #008080\">0.46</span> │ <span style=\"color: #008080; text-decoration-color: #008080\"> 0</span> │ <span style=\"color: #008080; text-decoration-color: #008080\">  0</span> │ <span style=\"color: #008080; text-decoration-color: #008080\">  1</span> │ <span style=\"color: #008080; text-decoration-color: #008080\">   1</span> │ <span style=\"color: #008000; text-decoration-color: #008000\">█    ▃</span> │  │\n",
       "│ │ <span style=\"color: #af87ff; text-decoration-color: #af87ff\">ngs        </span> │         │              │       │      │    │     │     │      │        │  │\n",
       "│ │ <span style=\"color: #af87ff; text-decoration-color: #af87ff\">informal_sa</span> │ <span style=\"color: #008080; text-decoration-color: #008080\">      0</span> │ <span style=\"color: #008080; text-decoration-color: #008080\">           1</span> │ <span style=\"color: #008080; text-decoration-color: #008080\"> 0.17</span> │ <span style=\"color: #008080; text-decoration-color: #008080\">0.38</span> │ <span style=\"color: #008080; text-decoration-color: #008080\"> 0</span> │ <span style=\"color: #008080; text-decoration-color: #008080\">  0</span> │ <span style=\"color: #008080; text-decoration-color: #008080\">  0</span> │ <span style=\"color: #008080; text-decoration-color: #008080\">   1</span> │ <span style=\"color: #008000; text-decoration-color: #008000\">█    ▂</span> │  │\n",
       "│ │ <span style=\"color: #af87ff; text-decoration-color: #af87ff\">vings      </span> │         │              │       │      │    │     │     │      │        │  │\n",
       "│ └─────────────┴─────────┴──────────────┴───────┴──────┴────┴─────┴─────┴──────┴────────┘  │\n",
       "╰─────────────────────────────────────────── End ───────────────────────────────────────────╯\n",
       "</pre>\n"
      ],
      "text/plain": [
       "╭───────────────────────────────────── skimpy summary ──────────────────────────────────────╮\n",
       "│ \u001b[3m         Data Summary         \u001b[0m \u001b[3m      Data Types       \u001b[0m                                    │\n",
       "│ ┏━━━━━━━━━━━━━━━━━━━┳━━━━━━━━┓ ┏━━━━━━━━━━━━━┳━━━━━━━┓                                    │\n",
       "│ ┃\u001b[1;36m \u001b[0m\u001b[1;36mdataframe        \u001b[0m\u001b[1;36m \u001b[0m┃\u001b[1;36m \u001b[0m\u001b[1;36mValues\u001b[0m\u001b[1;36m \u001b[0m┃ ┃\u001b[1;36m \u001b[0m\u001b[1;36mColumn Type\u001b[0m\u001b[1;36m \u001b[0m┃\u001b[1;36m \u001b[0m\u001b[1;36mCount\u001b[0m\u001b[1;36m \u001b[0m┃                                    │\n",
       "│ ┡━━━━━━━━━━━━━━━━━━━╇━━━━━━━━┩ ┡━━━━━━━━━━━━━╇━━━━━━━┩                                    │\n",
       "│ │ Number of rows    │ 12600  │ │ int64       │ 13    │                                    │\n",
       "│ │ Number of columns │ 17     │ │ int32       │ 4     │                                    │\n",
       "│ └───────────────────┴────────┘ └─────────────┴───────┘                                    │\n",
       "│ \u001b[3m                                         number                                         \u001b[0m  │\n",
       "│ ┏━━━━━━━━━━━━━┳━━━━━━━━━┳━━━━━━━━━━━━━━┳━━━━━━━┳━━━━━━┳━━━━┳━━━━━┳━━━━━┳━━━━━━┳━━━━━━━━┓  │\n",
       "│ ┃\u001b[1m \u001b[0m\u001b[1m           \u001b[0m\u001b[1m \u001b[0m┃\u001b[1m \u001b[0m\u001b[1mmissing\u001b[0m\u001b[1m \u001b[0m┃\u001b[1m \u001b[0m\u001b[1mcomplete    \u001b[0m\u001b[1m \u001b[0m┃\u001b[1m \u001b[0m\u001b[1mmean \u001b[0m\u001b[1m \u001b[0m┃\u001b[1m \u001b[0m\u001b[1msd  \u001b[0m\u001b[1m \u001b[0m┃\u001b[1m \u001b[0m\u001b[1mp0\u001b[0m\u001b[1m \u001b[0m┃\u001b[1m \u001b[0m\u001b[1mp25\u001b[0m\u001b[1m \u001b[0m┃\u001b[1m \u001b[0m\u001b[1mp75\u001b[0m\u001b[1m \u001b[0m┃\u001b[1m \u001b[0m\u001b[1mp100\u001b[0m\u001b[1m \u001b[0m┃\u001b[1m \u001b[0m\u001b[1mhist  \u001b[0m\u001b[1m \u001b[0m┃  │\n",
       "│ ┃             ┃         ┃\u001b[1m \u001b[0m\u001b[1mrate        \u001b[0m\u001b[1m \u001b[0m┃       ┃      ┃    ┃     ┃     ┃      ┃        ┃  │\n",
       "│ ┡━━━━━━━━━━━━━╇━━━━━━━━━╇━━━━━━━━━━━━━━╇━━━━━━━╇━━━━━━╇━━━━╇━━━━━╇━━━━━╇━━━━━━╇━━━━━━━━┩  │\n",
       "│ │ \u001b[38;5;141mcountry    \u001b[0m │ \u001b[36m      0\u001b[0m │ \u001b[36m           1\u001b[0m │ \u001b[36m    3\u001b[0m │ \u001b[36m   2\u001b[0m │ \u001b[36m 0\u001b[0m │ \u001b[36m  1\u001b[0m │ \u001b[36m  5\u001b[0m │ \u001b[36m   6\u001b[0m │ \u001b[32m▄▄▄▄▄█\u001b[0m │  │\n",
       "│ │ \u001b[38;5;141mage        \u001b[0m │ \u001b[36m      0\u001b[0m │ \u001b[36m           1\u001b[0m │ \u001b[36m   21\u001b[0m │ \u001b[36m  15\u001b[0m │ \u001b[36m 0\u001b[0m │ \u001b[36m 10\u001b[0m │ \u001b[36m 30\u001b[0m │ \u001b[36m  83\u001b[0m │ \u001b[32m █▇▄▂ \u001b[0m │  │\n",
       "│ │ \u001b[38;5;141mfemale     \u001b[0m │ \u001b[36m      0\u001b[0m │ \u001b[36m           1\u001b[0m │ \u001b[36m 0.56\u001b[0m │ \u001b[36m 0.5\u001b[0m │ \u001b[36m 0\u001b[0m │ \u001b[36m  0\u001b[0m │ \u001b[36m  1\u001b[0m │ \u001b[36m   1\u001b[0m │ \u001b[32m▆    █\u001b[0m │  │\n",
       "│ │ \u001b[38;5;141mmarried    \u001b[0m │ \u001b[36m      0\u001b[0m │ \u001b[36m           1\u001b[0m │ \u001b[36m 0.65\u001b[0m │ \u001b[36m0.48\u001b[0m │ \u001b[36m 0\u001b[0m │ \u001b[36m  0\u001b[0m │ \u001b[36m  1\u001b[0m │ \u001b[36m   1\u001b[0m │ \u001b[32m▄    █\u001b[0m │  │\n",
       "│ │ \u001b[38;5;141mrelationshi\u001b[0m │ \u001b[36m      0\u001b[0m │ \u001b[36m           1\u001b[0m │ \u001b[36m  2.9\u001b[0m │ \u001b[36m 1.9\u001b[0m │ \u001b[36m 0\u001b[0m │ \u001b[36m  1\u001b[0m │ \u001b[36m  5\u001b[0m │ \u001b[36m   6\u001b[0m │ \u001b[32m▁█  ▃▆\u001b[0m │  │\n",
       "│ │ \u001b[38;5;141mp_to_hh_h  \u001b[0m │         │              │       │      │    │     │     │      │        │  │\n",
       "│ │ \u001b[38;5;141meducation_l\u001b[0m │ \u001b[36m      0\u001b[0m │ \u001b[36m           1\u001b[0m │ \u001b[36m  1.4\u001b[0m │ \u001b[36m0.97\u001b[0m │ \u001b[36m 0\u001b[0m │ \u001b[36m  1\u001b[0m │ \u001b[36m  2\u001b[0m │ \u001b[36m   4\u001b[0m │ \u001b[32m▄█ ▇▂ \u001b[0m │  │\n",
       "│ │ \u001b[38;5;141mevel       \u001b[0m │         │              │       │      │    │     │     │      │        │  │\n",
       "│ │ \u001b[38;5;141mliteracy   \u001b[0m │ \u001b[36m      0\u001b[0m │ \u001b[36m           1\u001b[0m │ \u001b[36m 0.61\u001b[0m │ \u001b[36m0.49\u001b[0m │ \u001b[36m 0\u001b[0m │ \u001b[36m  0\u001b[0m │ \u001b[36m  1\u001b[0m │ \u001b[36m   1\u001b[0m │ \u001b[32m▅    █\u001b[0m │  │\n",
       "│ │ \u001b[38;5;141memployed_la\u001b[0m │ \u001b[36m      0\u001b[0m │ \u001b[36m           1\u001b[0m │ \u001b[36m 0.59\u001b[0m │ \u001b[36m0.49\u001b[0m │ \u001b[36m 0\u001b[0m │ \u001b[36m  0\u001b[0m │ \u001b[36m  1\u001b[0m │ \u001b[36m   1\u001b[0m │ \u001b[32m▆    █\u001b[0m │  │\n",
       "│ │ \u001b[38;5;141mst_year    \u001b[0m │         │              │       │      │    │     │     │      │        │  │\n",
       "│ │ \u001b[38;5;141memployment_\u001b[0m │ \u001b[36m      0\u001b[0m │ \u001b[36m           1\u001b[0m │ \u001b[36m 0.64\u001b[0m │ \u001b[36m0.98\u001b[0m │ \u001b[36m 0\u001b[0m │ \u001b[36m  0\u001b[0m │ \u001b[36m  1\u001b[0m │ \u001b[36m   4\u001b[0m │ \u001b[32m █▄ ▁ \u001b[0m │  │\n",
       "│ │ \u001b[38;5;141mcategory_  \u001b[0m │         │              │       │      │    │     │     │      │        │  │\n",
       "│ │ \u001b[38;5;141memployment_\u001b[0m │ \u001b[36m      0\u001b[0m │ \u001b[36m           1\u001b[0m │ \u001b[36m  1.9\u001b[0m │ \u001b[36m 1.5\u001b[0m │ \u001b[36m 0\u001b[0m │ \u001b[36m  1\u001b[0m │ \u001b[36m  3\u001b[0m │ \u001b[36m   4\u001b[0m │ \u001b[32m▄█ ▁▃▆\u001b[0m │  │\n",
       "│ │ \u001b[38;5;141mtype_last  \u001b[0m │         │              │       │      │    │     │     │      │        │  │\n",
       "│ │ \u001b[38;5;141mshare_hh_in\u001b[0m │ \u001b[36m      0\u001b[0m │ \u001b[36m           1\u001b[0m │ \u001b[36m    2\u001b[0m │ \u001b[36m 1.6\u001b[0m │ \u001b[36m 0\u001b[0m │ \u001b[36m  1\u001b[0m │ \u001b[36m  4\u001b[0m │ \u001b[36m   5\u001b[0m │ \u001b[32m██▃▃█▁\u001b[0m │  │\n",
       "│ │ \u001b[38;5;141mcome_prov  \u001b[0m │         │              │       │      │    │     │     │      │        │  │\n",
       "│ │ \u001b[38;5;141mincome_frie\u001b[0m │ \u001b[36m      0\u001b[0m │ \u001b[36m           1\u001b[0m │ \u001b[36m 0.41\u001b[0m │ \u001b[36m0.49\u001b[0m │ \u001b[36m 0\u001b[0m │ \u001b[36m  0\u001b[0m │ \u001b[36m  1\u001b[0m │ \u001b[36m   1\u001b[0m │ \u001b[32m█    ▆\u001b[0m │  │\n",
       "│ │ \u001b[38;5;141mnds_famil  \u001b[0m │         │              │       │      │    │     │     │      │        │  │\n",
       "│ │ \u001b[38;5;141mincome_gove\u001b[0m │ \u001b[36m      0\u001b[0m │ \u001b[36m           1\u001b[0m │ \u001b[36m0.057\u001b[0m │ \u001b[36m0.23\u001b[0m │ \u001b[36m 0\u001b[0m │ \u001b[36m  0\u001b[0m │ \u001b[36m  0\u001b[0m │ \u001b[36m   1\u001b[0m │ \u001b[32m  █   \u001b[0m │  │\n",
       "│ │ \u001b[38;5;141mrnment_la  \u001b[0m │         │              │       │      │    │     │     │      │        │  │\n",
       "│ │ \u001b[38;5;141mincome_own_\u001b[0m │ \u001b[36m      0\u001b[0m │ \u001b[36m           1\u001b[0m │ \u001b[36m  0.3\u001b[0m │ \u001b[36m0.46\u001b[0m │ \u001b[36m 0\u001b[0m │ \u001b[36m  0\u001b[0m │ \u001b[36m  1\u001b[0m │ \u001b[36m   1\u001b[0m │ \u001b[32m█    ▃\u001b[0m │  │\n",
       "│ │ \u001b[38;5;141mbusiness_  \u001b[0m │         │              │       │      │    │     │     │      │        │  │\n",
       "│ │ \u001b[38;5;141mnum_times_b\u001b[0m │ \u001b[36m      0\u001b[0m │ \u001b[36m           1\u001b[0m │ \u001b[36m 0.66\u001b[0m │ \u001b[36m0.92\u001b[0m │ \u001b[36m 0\u001b[0m │ \u001b[36m  0\u001b[0m │ \u001b[36m  1\u001b[0m │ \u001b[36m   3\u001b[0m │ \u001b[32m█ ▃ ▂▁\u001b[0m │  │\n",
       "│ │ \u001b[38;5;141morrowed_l  \u001b[0m │         │              │       │      │    │     │     │      │        │  │\n",
       "│ │ \u001b[38;5;141mformal_savi\u001b[0m │ \u001b[36m      0\u001b[0m │ \u001b[36m           1\u001b[0m │ \u001b[36m  0.3\u001b[0m │ \u001b[36m0.46\u001b[0m │ \u001b[36m 0\u001b[0m │ \u001b[36m  0\u001b[0m │ \u001b[36m  1\u001b[0m │ \u001b[36m   1\u001b[0m │ \u001b[32m█    ▃\u001b[0m │  │\n",
       "│ │ \u001b[38;5;141mngs        \u001b[0m │         │              │       │      │    │     │     │      │        │  │\n",
       "│ │ \u001b[38;5;141minformal_sa\u001b[0m │ \u001b[36m      0\u001b[0m │ \u001b[36m           1\u001b[0m │ \u001b[36m 0.17\u001b[0m │ \u001b[36m0.38\u001b[0m │ \u001b[36m 0\u001b[0m │ \u001b[36m  0\u001b[0m │ \u001b[36m  0\u001b[0m │ \u001b[36m   1\u001b[0m │ \u001b[32m█    ▂\u001b[0m │  │\n",
       "│ │ \u001b[38;5;141mvings      \u001b[0m │         │              │       │      │    │     │     │      │        │  │\n",
       "│ └─────────────┴─────────┴──────────────┴───────┴──────┴────┴─────┴─────┴──────┴────────┘  │\n",
       "╰─────────────────────────────────────────── End ───────────────────────────────────────────╯\n"
      ]
     },
     "metadata": {},
     "output_type": "display_data"
    }
   ],
   "source": [
    "skim(dataset2)"
   ]
  },
  {
   "cell_type": "code",
   "execution_count": 22,
   "id": "7bd36e99",
   "metadata": {},
   "outputs": [],
   "source": [
    "#dataset2.describe()"
   ]
  },
  {
   "cell_type": "code",
   "execution_count": 23,
   "id": "99add6c8",
   "metadata": {},
   "outputs": [],
   "source": [
    "#def count_unique(dataset2, cols):\n",
    "#    for col in cols:\n",
    "#       print('\\n' + 'For column ' + col)\n",
    "#       print(dataset2[col].value_counts())\n",
    "#cat_cols = ['country','age','female','married','relationship_to_hh_head',\n",
    "# 'education_level','literacy','employed_last_year','employment_category_last_year','employment_type_last_year',\n",
    "# 'share_hh_income_provided','income_friends_family_last_year','income_government_last_year','income_own_business_last_year',\n",
    "# 'formal_savings','informal_savings','num_times_borrowed_last_year']\n",
    "\n",
    "#count_unique(dataset2, cat_cols)\n",
    "#dataset2.shape"
   ]
  },
  {
   "cell_type": "code",
   "execution_count": 24,
   "id": "bdcf8c21",
   "metadata": {},
   "outputs": [],
   "source": [
    "#dataset_labels.poverty_probability.value_counts()"
   ]
  },
  {
   "cell_type": "markdown",
   "id": "f7e648e5",
   "metadata": {},
   "source": [
    "Exploratory analysis - Dataset_labels:"
   ]
  },
  {
   "cell_type": "markdown",
   "id": "0eb4d9d7",
   "metadata": {},
   "source": [
    "Plot variables:"
   ]
  },
  {
   "cell_type": "code",
   "execution_count": 25,
   "id": "5b207825",
   "metadata": {},
   "outputs": [],
   "source": [
    "#dataset_labels.info()"
   ]
  },
  {
   "cell_type": "markdown",
   "id": "055d11c5",
   "metadata": {},
   "source": [
    "Histogram:"
   ]
  },
  {
   "cell_type": "code",
   "execution_count": 26,
   "id": "cc729f6c",
   "metadata": {},
   "outputs": [
    {
     "data": {
      "text/plain": [
       "<AxesSubplot:>"
      ]
     },
     "execution_count": 26,
     "metadata": {},
     "output_type": "execute_result"
    },
    {
     "data": {
      "image/png": "[encoded data removed]",
      "text/plain": [
       "<Figure size 432x288 with 1 Axes>"
      ]
     },
     "metadata": {
      "needs_background": "light"
     },
     "output_type": "display_data"
    }
   ],
   "source": [
    "dataset_labels.poverty_probability.hist()"
   ]
  },
  {
   "cell_type": "markdown",
   "id": "9012d934",
   "metadata": {},
   "source": [
    "Negatively skewed - HISTOGRAM"
   ]
  },
  {
   "cell_type": "markdown",
   "id": "4d0ae7b9",
   "metadata": {},
   "source": [
    "Square root:"
   ]
  },
  {
   "cell_type": "code",
   "execution_count": 27,
   "id": "b2046643",
   "metadata": {},
   "outputs": [],
   "source": [
    "dataset_labels['poverty_probabilitySQRT']=dataset_labels['poverty_probability']**2"
   ]
  },
  {
   "cell_type": "code",
   "execution_count": 28,
   "id": "1aa39b70",
   "metadata": {},
   "outputs": [
    {
     "data": {
      "text/plain": [
       "<AxesSubplot:>"
      ]
     },
     "execution_count": 28,
     "metadata": {},
     "output_type": "execute_result"
    },
    {
     "data": {
      "image/png": "[encoded data removed]",
      "text/plain": [
       "<Figure size 432x288 with 1 Axes>"
      ]
     },
     "metadata": {
      "needs_background": "light"
     },
     "output_type": "display_data"
    }
   ],
   "source": [
    "dataset_labels.poverty_probabilitySQRT.hist()"
   ]
  },
  {
   "cell_type": "markdown",
   "id": "2bf8249b",
   "metadata": {},
   "source": [
    "Close to normally distributed - SQRT"
   ]
  },
  {
   "cell_type": "markdown",
   "id": "fee7f04e",
   "metadata": {},
   "source": [
    "Cube:"
   ]
  },
  {
   "cell_type": "code",
   "execution_count": 29,
   "id": "c6e95de5",
   "metadata": {},
   "outputs": [],
   "source": [
    "dataset_labels['poverty_probabilityCUBE'] = dataset_labels['poverty_probability']**3"
   ]
  },
  {
   "cell_type": "code",
   "execution_count": 30,
   "id": "c5481ea4",
   "metadata": {},
   "outputs": [
    {
     "data": {
      "text/plain": [
       "<AxesSubplot:>"
      ]
     },
     "execution_count": 30,
     "metadata": {},
     "output_type": "execute_result"
    },
    {
     "data": {
      "image/png": "[encoded data removed]",
      "text/plain": [
       "<Figure size 432x288 with 1 Axes>"
      ]
     },
     "metadata": {
      "needs_background": "light"
     },
     "output_type": "display_data"
    }
   ],
   "source": [
    "dataset_labels.poverty_probabilityCUBE.hist()"
   ]
  },
  {
   "cell_type": "markdown",
   "id": "f8157e42",
   "metadata": {},
   "source": [
    "Close to normally distributed - CUBE"
   ]
  },
  {
   "cell_type": "markdown",
   "id": "e7a4cebe",
   "metadata": {},
   "source": [
    "Dataset_labels - Logistic Regression:"
   ]
  },
  {
   "cell_type": "code",
   "execution_count": 31,
   "id": "1556798d",
   "metadata": {},
   "outputs": [],
   "source": [
    "x = dataset_labels.drop(\"poverty_probability\", axis =1)\n",
    "y = dataset_labels[\"poverty_probability\"]"
   ]
  },
  {
   "cell_type": "code",
   "execution_count": 32,
   "id": "c6000ff4",
   "metadata": {},
   "outputs": [],
   "source": [
    "x_train, x_test, y_train, y_test = train_test_split(x,y, test_size=0.2, random_state=1)"
   ]
  },
  {
   "cell_type": "code",
   "execution_count": 33,
   "id": "418cd1c7",
   "metadata": {},
   "outputs": [
    {
     "name": "stdout",
     "output_type": "stream",
     "text": [
      "Optimization terminated successfully.\n",
      "         Current function value: 0.421887\n",
      "         Iterations 7\n",
      "                             Results: Logit\n",
      "========================================================================\n",
      "Model:                Logit                Pseudo R-squared:  0.327     \n",
      "Dependent Variable:   poverty_probability  AIC:               10637.5537\n",
      "Date:                 2022-02-25 11:18     BIC:               10659.8781\n",
      "No. Observations:     12600                Log-Likelihood:    -5315.8   \n",
      "Df Model:             2                    LL-Null:           -7900.7   \n",
      "Df Residuals:         12597                LLR p-value:       0.0000    \n",
      "Converged:            1.0000               Scale:             1.0000    \n",
      "No. Iterations:       7.0000                                            \n",
      "------------------------------------------------------------------------\n",
      "                         Coef.  Std.Err.    z     P>|z|   [0.025  0.975]\n",
      "------------------------------------------------------------------------\n",
      "row_id                  -0.0001   0.0000 -20.3456 0.0000 -0.0001 -0.0001\n",
      "poverty_probabilitySQRT -0.4327   0.3611  -1.1983 0.2308 -1.1404  0.2750\n",
      "poverty_probabilityCUBE  4.7525   0.4091  11.6169 0.0000  3.9507  5.5544\n",
      "========================================================================\n",
      "\n"
     ]
    }
   ],
   "source": [
    "logit = sm.Logit(y,x)\n",
    "results = logit.fit()\n",
    "print(results.summary2())"
   ]
  },
  {
   "cell_type": "markdown",
   "id": "dd7cec86",
   "metadata": {},
   "source": [
    "A significant predictor of poverty probability that increases/decreases when the liklihood of poverty increases/decreases."
   ]
  },
  {
   "cell_type": "markdown",
   "id": "7fb8b2e4",
   "metadata": {},
   "source": [
    "Exploratory analysis - Dataset2:"
   ]
  },
  {
   "cell_type": "markdown",
   "id": "d443c4f7",
   "metadata": {},
   "source": [
    "Plot variables:"
   ]
  },
  {
   "cell_type": "code",
   "execution_count": 34,
   "id": "5efd4551",
   "metadata": {},
   "outputs": [],
   "source": [
    "#dataset2.info()"
   ]
  },
  {
   "cell_type": "code",
   "execution_count": 35,
   "id": "0633aefd",
   "metadata": {},
   "outputs": [
    {
     "data": {
      "text/plain": [
       "<AxesSubplot:>"
      ]
     },
     "execution_count": 35,
     "metadata": {},
     "output_type": "execute_result"
    },
    {
     "data": {
      "image/png": "[encoded data removed]",
      "text/plain": [
       "<Figure size 432x288 with 1 Axes>"
      ]
     },
     "metadata": {
      "needs_background": "light"
     },
     "output_type": "display_data"
    }
   ],
   "source": [
    "dataset2.country.hist()"
   ]
  },
  {
   "cell_type": "code",
   "execution_count": 36,
   "id": "0ef22e4d",
   "metadata": {},
   "outputs": [
    {
     "data": {
      "text/plain": [
       "<AxesSubplot:>"
      ]
     },
     "execution_count": 36,
     "metadata": {},
     "output_type": "execute_result"
    },
    {
     "data": {
      "image/png": "[encoded data removed]",
      "text/plain": [
       "<Figure size 432x288 with 1 Axes>"
      ]
     },
     "metadata": {
      "needs_background": "light"
     },
     "output_type": "display_data"
    }
   ],
   "source": [
    "dataset2.age.hist()"
   ]
  },
  {
   "cell_type": "code",
   "execution_count": 37,
   "id": "c0b6c7df",
   "metadata": {},
   "outputs": [
    {
     "data": {
      "text/plain": [
       "<AxesSubplot:>"
      ]
     },
     "execution_count": 37,
     "metadata": {},
     "output_type": "execute_result"
    },
    {
     "data": {
      "image/png": "[encoded data removed]",
      "text/plain": [
       "<Figure size 432x288 with 1 Axes>"
      ]
     },
     "metadata": {
      "needs_background": "light"
     },
     "output_type": "display_data"
    }
   ],
   "source": [
    "dataset2.female.hist()"
   ]
  },
  {
   "cell_type": "code",
   "execution_count": 38,
   "id": "49520007",
   "metadata": {},
   "outputs": [
    {
     "data": {
      "text/plain": [
       "<AxesSubplot:>"
      ]
     },
     "execution_count": 38,
     "metadata": {},
     "output_type": "execute_result"
    },
    {
     "data": {
      "image/png": "[encoded data removed]",
      "text/plain": [
       "<Figure size 432x288 with 1 Axes>"
      ]
     },
     "metadata": {
      "needs_background": "light"
     },
     "output_type": "display_data"
    }
   ],
   "source": [
    "dataset2.married.hist()"
   ]
  },
  {
   "cell_type": "code",
   "execution_count": 39,
   "id": "13ab5e8a",
   "metadata": {},
   "outputs": [
    {
     "data": {
      "text/plain": [
       "<AxesSubplot:>"
      ]
     },
     "execution_count": 39,
     "metadata": {},
     "output_type": "execute_result"
    },
    {
     "data": {
      "image/png": "[encoded data removed]",
      "text/plain": [
       "<Figure size 432x288 with 1 Axes>"
      ]
     },
     "metadata": {
      "needs_background": "light"
     },
     "output_type": "display_data"
    }
   ],
   "source": [
    "dataset2.relationship_to_hh_head.hist()"
   ]
  },
  {
   "cell_type": "code",
   "execution_count": 40,
   "id": "1686820d",
   "metadata": {},
   "outputs": [
    {
     "data": {
      "text/plain": [
       "<AxesSubplot:>"
      ]
     },
     "execution_count": 40,
     "metadata": {},
     "output_type": "execute_result"
    },
    {
     "data": {
      "image/png": "[encoded data removed]",
      "text/plain": [
       "<Figure size 432x288 with 1 Axes>"
      ]
     },
     "metadata": {
      "needs_background": "light"
     },
     "output_type": "display_data"
    }
   ],
   "source": [
    "dataset2.education_level.hist()"
   ]
  },
  {
   "cell_type": "code",
   "execution_count": 41,
   "id": "c26c813b",
   "metadata": {},
   "outputs": [
    {
     "data": {
      "text/plain": [
       "<AxesSubplot:>"
      ]
     },
     "execution_count": 41,
     "metadata": {},
     "output_type": "execute_result"
    },
    {
     "data": {
      "image/png": "[encoded data removed]",
      "text/plain": [
       "<Figure size 432x288 with 1 Axes>"
      ]
     },
     "metadata": {
      "needs_background": "light"
     },
     "output_type": "display_data"
    }
   ],
   "source": [
    "dataset2.literacy.hist()"
   ]
  },
  {
   "cell_type": "code",
   "execution_count": 42,
   "id": "ea98434b",
   "metadata": {},
   "outputs": [
    {
     "data": {
      "text/plain": [
       "<AxesSubplot:>"
      ]
     },
     "execution_count": 42,
     "metadata": {},
     "output_type": "execute_result"
    },
    {
     "data": {
      "image/png": "[encoded data removed]",
      "text/plain": [
       "<Figure size 432x288 with 1 Axes>"
      ]
     },
     "metadata": {
      "needs_background": "light"
     },
     "output_type": "display_data"
    }
   ],
   "source": [
    "dataset2.employed_last_year.hist()"
   ]
  },
  {
   "cell_type": "code",
   "execution_count": 43,
   "id": "9b6cf7c3",
   "metadata": {},
   "outputs": [
    {
     "data": {
      "text/plain": [
       "<AxesSubplot:>"
      ]
     },
     "execution_count": 43,
     "metadata": {},
     "output_type": "execute_result"
    },
    {
     "data": {
      "image/png": "[encoded data removed]",
      "text/plain": [
       "<Figure size 432x288 with 1 Axes>"
      ]
     },
     "metadata": {
      "needs_background": "light"
     },
     "output_type": "display_data"
    }
   ],
   "source": [
    "dataset2.employment_category_last_year.hist()"
   ]
  },
  {
   "cell_type": "code",
   "execution_count": 44,
   "id": "d3e4aad5",
   "metadata": {},
   "outputs": [
    {
     "data": {
      "text/plain": [
       "<AxesSubplot:>"
      ]
     },
     "execution_count": 44,
     "metadata": {},
     "output_type": "execute_result"
    },
    {
     "data": {
      "image/png": "[encoded data removed]",
      "text/plain": [
       "<Figure size 432x288 with 1 Axes>"
      ]
     },
     "metadata": {
      "needs_background": "light"
     },
     "output_type": "display_data"
    }
   ],
   "source": [
    "dataset2.employment_type_last_year.hist()"
   ]
  },
  {
   "cell_type": "code",
   "execution_count": 45,
   "id": "1139e768",
   "metadata": {},
   "outputs": [
    {
     "data": {
      "text/plain": [
       "<AxesSubplot:>"
      ]
     },
     "execution_count": 45,
     "metadata": {},
     "output_type": "execute_result"
    },
    {
     "data": {
      "image/png": "[encoded data removed]",
      "text/plain": [
       "<Figure size 432x288 with 1 Axes>"
      ]
     },
     "metadata": {
      "needs_background": "light"
     },
     "output_type": "display_data"
    }
   ],
   "source": [
    "dataset2.share_hh_income_provided.hist()"
   ]
  },
  {
   "cell_type": "code",
   "execution_count": 46,
   "id": "474cd3a1",
   "metadata": {},
   "outputs": [
    {
     "data": {
      "text/plain": [
       "<AxesSubplot:>"
      ]
     },
     "execution_count": 46,
     "metadata": {},
     "output_type": "execute_result"
    },
    {
     "data": {
      "image/png": "[encoded data removed]",
      "text/plain": [
       "<Figure size 432x288 with 1 Axes>"
      ]
     },
     "metadata": {
      "needs_background": "light"
     },
     "output_type": "display_data"
    }
   ],
   "source": [
    "dataset2.income_friends_family_last_year.hist()"
   ]
  },
  {
   "cell_type": "code",
   "execution_count": 47,
   "id": "b018b15b",
   "metadata": {},
   "outputs": [
    {
     "data": {
      "text/plain": [
       "<AxesSubplot:>"
      ]
     },
     "execution_count": 47,
     "metadata": {},
     "output_type": "execute_result"
    },
    {
     "data": {
      "image/png": "[encoded data removed]",
      "text/plain": [
       "<Figure size 432x288 with 1 Axes>"
      ]
     },
     "metadata": {
      "needs_background": "light"
     },
     "output_type": "display_data"
    }
   ],
   "source": [
    "dataset2.income_government_last_year.hist()"
   ]
  },
  {
   "cell_type": "code",
   "execution_count": 48,
   "id": "a02f9b98",
   "metadata": {},
   "outputs": [
    {
     "data": {
      "text/plain": [
       "<AxesSubplot:>"
      ]
     },
     "execution_count": 48,
     "metadata": {},
     "output_type": "execute_result"
    },
    {
     "data": {
      "image/png": "[encoded data removed]",
      "text/plain": [
       "<Figure size 432x288 with 1 Axes>"
      ]
     },
     "metadata": {
      "needs_background": "light"
     },
     "output_type": "display_data"
    }
   ],
   "source": [
    "dataset2.income_own_business_last_year.hist()"
   ]
  },
  {
   "cell_type": "code",
   "execution_count": 49,
   "id": "122e8f98",
   "metadata": {},
   "outputs": [
    {
     "data": {
      "text/plain": [
       "<AxesSubplot:>"
      ]
     },
     "execution_count": 49,
     "metadata": {},
     "output_type": "execute_result"
    },
    {
     "data": {
      "image/png": "[encoded data removed]",
      "text/plain": [
       "<Figure size 432x288 with 1 Axes>"
      ]
     },
     "metadata": {
      "needs_background": "light"
     },
     "output_type": "display_data"
    }
   ],
   "source": [
    "dataset2.num_times_borrowed_last_year.hist()"
   ]
  },
  {
   "cell_type": "code",
   "execution_count": 50,
   "id": "59ff3b70",
   "metadata": {},
   "outputs": [
    {
     "data": {
      "text/plain": [
       "<AxesSubplot:>"
      ]
     },
     "execution_count": 50,
     "metadata": {},
     "output_type": "execute_result"
    },
    {
     "data": {
      "image/png": "[encoded data removed]",
      "text/plain": [
       "<Figure size 432x288 with 1 Axes>"
      ]
     },
     "metadata": {
      "needs_background": "light"
     },
     "output_type": "display_data"
    }
   ],
   "source": [
    "dataset2.formal_savings.hist()"
   ]
  },
  {
   "cell_type": "code",
   "execution_count": 51,
   "id": "3af6be13",
   "metadata": {},
   "outputs": [
    {
     "data": {
      "text/plain": [
       "<AxesSubplot:>"
      ]
     },
     "execution_count": 51,
     "metadata": {},
     "output_type": "execute_result"
    },
    {
     "data": {
      "image/png": "[encoded data removed]",
      "text/plain": [
       "<Figure size 432x288 with 1 Axes>"
      ]
     },
     "metadata": {
      "needs_background": "light"
     },
     "output_type": "display_data"
    }
   ],
   "source": [
    "dataset2.informal_savings.hist()"
   ]
  },
  {
   "cell_type": "markdown",
   "id": "34b8e1e1",
   "metadata": {},
   "source": [
    "Dataset2 - K-nearest Neighbors:"
   ]
  },
  {
   "cell_type": "code",
   "execution_count": 52,
   "id": "259167f7",
   "metadata": {},
   "outputs": [],
   "source": [
    "x = dataset2\n",
    "y = dataset2['country']"
   ]
  },
  {
   "cell_type": "code",
   "execution_count": 53,
   "id": "6b1a61b1",
   "metadata": {},
   "outputs": [],
   "source": [
    "x_train, x_test, y_train, y_test = train_test_split(x,y, test_size=0.2)"
   ]
  },
  {
   "cell_type": "code",
   "execution_count": 54,
   "id": "bb4c0b8f",
   "metadata": {},
   "outputs": [],
   "source": [
    "error_rate = []\n",
    "for i in range(1,40):\n",
    " knn = KNeighborsClassifier(n_neighbors=i)\n",
    " knn.fit(x_train,y_train)\n",
    " pred_i = knn.predict(x_test)\n",
    " error_rate.append(np.mean(pred_i != y_test))"
   ]
  },
  {
   "cell_type": "code",
   "execution_count": 55,
   "id": "9e19b3f6",
   "metadata": {},
   "outputs": [
    {
     "name": "stdout",
     "output_type": "stream",
     "text": [
      "Minimum error:- 0.22063492063492063 at K = 0\n"
     ]
    },
    {
     "data": {
      "image/png": "[encoded data removed]",
      "text/plain": [
       "<Figure size 720x432 with 1 Axes>"
      ]
     },
     "metadata": {
      "needs_background": "light"
     },
     "output_type": "display_data"
    }
   ],
   "source": [
    "plt.figure(figsize=(10,6))\n",
    "plt.plot(range(1,40),error_rate,color='blue', linestyle='dashed', \n",
    "         marker='o',markerfacecolor='red', markersize=10)\n",
    "plt.title('Error Rate vs. K Value')\n",
    "plt.xlabel('K')\n",
    "plt.ylabel('Error Rate')\n",
    "print(\"Minimum error:-\",min(error_rate),\"at K =\",error_rate.index(min(error_rate)))"
   ]
  },
  {
   "cell_type": "markdown",
   "id": "271a7c0d",
   "metadata": {},
   "source": [
    "Error Rate - Lowest point: 21 "
   ]
  },
  {
   "cell_type": "code",
   "execution_count": 56,
   "id": "18ff0921",
   "metadata": {},
   "outputs": [
    {
     "name": "stdout",
     "output_type": "stream",
     "text": [
      "[[295  57   5   1   0   0   0]\n",
      " [ 73 237  33   3   0   0   0]\n",
      " [  6  70 258  19   1   0   0]\n",
      " [  1   5  94 189  52   9   0]\n",
      " [  0   0  11  32 261  51  11]\n",
      " [  0   0   0   1  17 328  28]\n",
      " [  0   0   0   1   4  70 297]]\n"
     ]
    }
   ],
   "source": [
    "knn = KNeighborsClassifier(n_neighbors=21)\n",
    "knn.fit(x_train,y_train)\n",
    "pred = knn.predict(x_test)\n",
    "\n",
    "print(confusion_matrix(y_test, pred))"
   ]
  },
  {
   "cell_type": "markdown",
   "id": "786646b2",
   "metadata": {},
   "source": [
    "True positive:  168 (upper-left)  – Number of positives predicted correctly\n",
    "True negative:  83  (lower-right) – Number of negatives predicted correctly\n",
    "False positive: 36  (top-right)   – Number of positives predicted incorrectly\n",
    "False negative: 50  (lower-left)  – Number of negatives predicted incorrectly"
   ]
  },
  {
   "cell_type": "code",
   "execution_count": 57,
   "id": "8e893388",
   "metadata": {},
   "outputs": [
    {
     "name": "stdout",
     "output_type": "stream",
     "text": [
      "              precision    recall  f1-score   support\n",
      "\n",
      "           0       0.79      0.82      0.80       358\n",
      "           1       0.64      0.68      0.66       346\n",
      "           2       0.64      0.73      0.68       354\n",
      "           3       0.77      0.54      0.63       350\n",
      "           4       0.78      0.71      0.74       366\n",
      "           5       0.72      0.88      0.79       374\n",
      "           6       0.88      0.80      0.84       372\n",
      "\n",
      "    accuracy                           0.74      2520\n",
      "   macro avg       0.75      0.74      0.74      2520\n",
      "weighted avg       0.75      0.74      0.74      2520\n",
      "\n"
     ]
    }
   ],
   "source": [
    "print(classification_report(y_test, pred))"
   ]
  },
  {
   "cell_type": "markdown",
   "id": "d59c8a43",
   "metadata": {},
   "source": [
    "The model is better at predicting for countries 0, 3, and 6 at 81%, 79%, 88%, than countries 1, 2, 4, and 5 at 60%,\n",
    "68%, 71%, 71%.\n",
    "\n",
    "Overall, it averages out to 74% accuracy with predicting poverty probability based on numerous variables."
   ]
  },
  {
   "cell_type": "markdown",
   "id": "38e540a5",
   "metadata": {},
   "source": [
    "Dataset2 - Decision Tree:"
   ]
  },
  {
   "cell_type": "code",
   "execution_count": 58,
   "id": "d46bb50e",
   "metadata": {},
   "outputs": [],
   "source": [
    "x = dataset2[['age', 'female', 'married', 'relationship_to_hh_head', 'education_level', 'literacy', 'employed_last_year','employment_category_last_year',\n",
    "       'employment_type_last_year', 'share_hh_income_provided', 'income_friends_family_last_year',\n",
    "       'income_government_last_year', 'income_own_business_last_year', 'num_times_borrowed_last_year', 'formal_savings',\n",
    "       'informal_savings']]\n",
    "y = dataset2[\"country\"]"
   ]
  },
  {
   "cell_type": "code",
   "execution_count": 59,
   "id": "e0e067c5",
   "metadata": {},
   "outputs": [],
   "source": [
    "#x.head()\n",
    "#y.head()"
   ]
  },
  {
   "cell_type": "code",
   "execution_count": 60,
   "id": "8c800580",
   "metadata": {},
   "outputs": [],
   "source": [
    "x_train, x_test, y_train, y_test = train_test_split(x,y, test_size=0.2, random_state=1)"
   ]
  },
  {
   "cell_type": "code",
   "execution_count": 61,
   "id": "7ad56510",
   "metadata": {},
   "outputs": [
    {
     "data": {
      "text/plain": [
       "DecisionTreeClassifier()"
      ]
     },
     "execution_count": 61,
     "metadata": {},
     "output_type": "execute_result"
    }
   ],
   "source": [
    "decisionTree = DecisionTreeClassifier()\n",
    "decisionTree.fit(x_train, y_train)"
   ]
  },
  {
   "cell_type": "code",
   "execution_count": 62,
   "id": "fd5c8aac",
   "metadata": {},
   "outputs": [
    {
     "name": "stdout",
     "output_type": "stream",
     "text": [
      "[[168  53  39  33  32  50  36]\n",
      " [ 71 117  47  20  19  38  27]\n",
      " [ 40  36 145  38  55  29  47]\n",
      " [ 22  22  42 122  41  29  60]\n",
      " [ 21  24  57  42 102  10  70]\n",
      " [ 29  43  15  35  10 211  24]\n",
      " [ 25  27  54  46  82  12 103]]\n"
     ]
    }
   ],
   "source": [
    "treePredictions = decisionTree.predict(x_test)\n",
    "print (confusion_matrix(y_test, treePredictions))"
   ]
  },
  {
   "cell_type": "markdown",
   "id": "67e62076",
   "metadata": {},
   "source": [
    "True positive:  166 (upper-left)  – Number of positives predicted correctly\n",
    "True negative:  103 (lower-right) – Number of negatives predicted correctly\n",
    "False positive: 34  (top-right)   – Number of positives predicted incorrectly\n",
    "False negative: 22  (lower-left)  – Number of negatives predicted incorrectly"
   ]
  },
  {
   "cell_type": "code",
   "execution_count": 63,
   "id": "7d1accea",
   "metadata": {},
   "outputs": [
    {
     "name": "stdout",
     "output_type": "stream",
     "text": [
      "              precision    recall  f1-score   support\n",
      "\n",
      "           0       0.45      0.41      0.43       411\n",
      "           1       0.36      0.35      0.35       339\n",
      "           2       0.36      0.37      0.37       390\n",
      "           3       0.36      0.36      0.36       338\n",
      "           4       0.30      0.31      0.31       326\n",
      "           5       0.56      0.57      0.57       367\n",
      "           6       0.28      0.30      0.29       349\n",
      "\n",
      "    accuracy                           0.38      2520\n",
      "   macro avg       0.38      0.38      0.38      2520\n",
      "weighted avg       0.39      0.38      0.38      2520\n",
      "\n"
     ]
    }
   ],
   "source": [
    "print(classification_report(y_test, treePredictions))"
   ]
  },
  {
   "cell_type": "markdown",
   "id": "7f78a2aa",
   "metadata": {},
   "source": [
    "The model is better at predicting for countries 0 and 5 at 45% and 54%, than countries 1, 2, 3, 4 and 6 at 36%,\n",
    "36%, 37%, 29%, and 29%.\n",
    "\n",
    "Overall, it averages out to 38% accuracy with predicting poverty probability based on numerous variables."
   ]
  },
  {
   "cell_type": "markdown",
   "id": "4b1a1b87",
   "metadata": {},
   "source": [
    "Dataset2 - Random Forest:"
   ]
  },
  {
   "cell_type": "code",
   "execution_count": 64,
   "id": "dfd2ca06",
   "metadata": {},
   "outputs": [
    {
     "data": {
      "text/plain": [
       "RandomForestClassifier()"
      ]
     },
     "execution_count": 64,
     "metadata": {},
     "output_type": "execute_result"
    }
   ],
   "source": [
    "forest = RandomForestClassifier()\n",
    "forest.fit(x_train, y_train)"
   ]
  },
  {
   "cell_type": "code",
   "execution_count": 65,
   "id": "224bd354",
   "metadata": {},
   "outputs": [
    {
     "name": "stdout",
     "output_type": "stream",
     "text": [
      "0.45357142857142857\n"
     ]
    }
   ],
   "source": [
    "print(accuracy_score(y_test, forest.predict(x_test)))"
   ]
  },
  {
   "cell_type": "code",
   "execution_count": 66,
   "id": "c305a14f",
   "metadata": {},
   "outputs": [
    {
     "name": "stdout",
     "output_type": "stream",
     "text": [
      "              precision    recall  f1-score   support\n",
      "\n",
      "           0       0.52      0.43      0.47       411\n",
      "           1       0.42      0.39      0.40       339\n",
      "           2       0.49      0.42      0.45       390\n",
      "           3       0.42      0.45      0.43       338\n",
      "           4       0.37      0.44      0.40       326\n",
      "           5       0.59      0.67      0.63       367\n",
      "           6       0.36      0.37      0.37       349\n",
      "\n",
      "    accuracy                           0.45      2520\n",
      "   macro avg       0.45      0.45      0.45      2520\n",
      "weighted avg       0.46      0.45      0.45      2520\n",
      "\n"
     ]
    }
   ],
   "source": [
    "print(classification_report(y_test, forest.predict(x_test)))"
   ]
  },
  {
   "cell_type": "markdown",
   "id": "4b73b558",
   "metadata": {},
   "source": [
    "The model is better at predicting for countries 0 and 5 at 52% and 59%, than countries 1, 2, 3, 4 and 6 at 43%,\n",
    "48%, 41%, 38%, and 36%.\n",
    "\n",
    "Overall, it averages out to 45% accuracy with predicting poverty probability based on numerous variables."
   ]
  }
 ],
 "metadata": {
  "kernelspec": {
   "display_name": "Python 3",
   "language": "python",
   "name": "python3"
  },
  "language_info": {
   "codemirror_mode": {
    "name": "ipython",
    "version": 3
   },
   "file_extension": ".py",
   "mimetype": "text/x-python",
   "name": "python",
   "nbconvert_exporter": "python",
   "pygments_lexer": "ipython3",
   "version": "3.8.8"
  }
 },
 "nbformat": 4,
 "nbformat_minor": 5
}
